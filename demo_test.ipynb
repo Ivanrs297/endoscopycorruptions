{
 "cells": [
  {
   "cell_type": "code",
   "execution_count": null,
   "metadata": {},
   "outputs": [],
   "source": [
    "from endoscopycorruptions import corrupt, get_corruption_names\n",
    "from PIL import Image\n",
    "import numpy as np\n",
    "import matplotlib.pyplot as plt\n",
    "import os\n",
    "\n",
    "image = np.asarray(Image.open('test_image.png'))\n",
    "\n",
    "print(type(image))\n",
    "plt.imshow(image)"
   ]
  },
  {
   "cell_type": "markdown",
   "metadata": {},
   "source": []
  },
  {
   "cell_type": "code",
   "execution_count": null,
   "metadata": {},
   "outputs": [],
   "source": [
    "if len(image.shape) > 2 and image.shape[2] == 4:\n",
    "    image = image[:, :, :3]\n",
    "\n",
    "image.shape"
   ]
  },
  {
   "cell_type": "code",
   "execution_count": null,
   "metadata": {},
   "outputs": [],
   "source": [
    "get_corruption_names()"
   ]
  },
  {
   "cell_type": "code",
   "execution_count": null,
   "metadata": {},
   "outputs": [],
   "source": [
    "# corrupted_image = corrupt(image, corruption_name='lens_distortion', severity=5)\n",
    "# plt.imshow(corrupted_image)\n",
    "# plt.show()\n",
    "\n",
    "\n",
    "for corruption in get_corruption_names():\n",
    "    for severity in range(5):\n",
    "        corrupted = corrupt(image, corruption_name=corruption, severity=severity+1)\n",
    "        plt.imshow(corrupted)\n",
    "        plt.axis('off')\n",
    "        \n",
    "        folder_path = f\"data/{corruption}/\"\n",
    "        if not os.path.exists(folder_path):\n",
    "            os.makedirs(folder_path)\n",
    "\n",
    "        plt.savefig(f'{folder_path}/c_{corruption}_sev{severity + 1}.png', bbox_inches='tight')\n",
    "        # plt.show()\n",
    "    print(corruption)"
   ]
  },
  {
   "cell_type": "code",
   "execution_count": null,
   "metadata": {},
   "outputs": [],
   "source": []
  }
 ],
 "metadata": {
  "kernelspec": {
   "display_name": "layer7",
   "language": "python",
   "name": "python3"
  },
  "language_info": {
   "codemirror_mode": {
    "name": "ipython",
    "version": 3
   },
   "file_extension": ".py",
   "mimetype": "text/x-python",
   "name": "python",
   "nbconvert_exporter": "python",
   "pygments_lexer": "ipython3",
   "version": "3.8.0"
  }
 },
 "nbformat": 4,
 "nbformat_minor": 2
}
